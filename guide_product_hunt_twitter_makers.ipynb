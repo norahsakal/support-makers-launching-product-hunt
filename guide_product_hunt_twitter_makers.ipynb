{
 "cells": [
  {
   "cell_type": "code",
   "execution_count": null,
   "id": "919d985e",
   "metadata": {},
   "outputs": [],
   "source": [
    "import json\n",
    "import requests\n",
    "\n",
    "import boto3"
   ]
  },
  {
   "cell_type": "markdown",
   "id": "8d6a7ab2",
   "metadata": {},
   "source": [
    "# 1. Fetch all the tech posts launching today on Product Hunt\n",
    "Before fetching the daily Product Hunt posts, you need a developer token, an API key + API secret. Visit Product Hunt, hover over your profile image in the upper right corner and click on API dashboard in the appearing menu."
   ]
  },
  {
   "cell_type": "markdown",
   "id": "9bec36e7",
   "metadata": {},
   "source": [
    "## Fetch posts of today"
   ]
  },
  {
   "cell_type": "code",
   "execution_count": null,
   "id": "05bfdeb5",
   "metadata": {},
   "outputs": [],
   "source": [
    "api_token_ph = \"PH_TOKEN\"\n",
    "api_url_posts = \"https://api.producthunt.com/v1/posts\"\n",
    "\n",
    "# Construct header \n",
    "headers = {\n",
    "    'Accept': 'application/json',\n",
    "    'Content-Type': 'application/json',\n",
    "    'Authorization': 'Bearer ' + api_token_ph,\n",
    "    'Host': 'api.producthunt.com'\n",
    "}\n",
    "\n",
    "# API call\n",
    "ph_response = requests.get(api_url_posts, headers=headers)\n",
    "ph_response.json()['posts'][0].keys()"
   ]
  },
  {
   "cell_type": "markdown",
   "id": "9be4a151",
   "metadata": {},
   "source": [
    "## Create dict with all makers launching today"
   ]
  },
  {
   "cell_type": "code",
   "execution_count": null,
   "id": "1c99232d",
   "metadata": {},
   "outputs": [],
   "source": [
    "maker_dict = {}\n",
    "for product in ph_response.json()['posts']:\n",
    "    for maker in product['makers']:\n",
    "\n",
    "        if maker['twitter_username']: # Only save if maker has a Twitter handle\n",
    "            \n",
    "            product_data = {\n",
    "                \"prod_name\": product['name'],\n",
    "                \"prod_tagline\": product['tagline'], \n",
    "                \"maker_name\": maker['name'], \n",
    "                \"twitter\": maker['twitter_username']\n",
    "            }\n",
    "            \n",
    "            if maker['twitter_username'] in maker_dict:\n",
    "                maker_dict[maker['twitter_username']].append(product_data)\n",
    "            else:\n",
    "                maker_dict[maker['twitter_username']] = [product_data]\n",
    "\n",
    "# Create a set with each Twitter handle\n",
    "maker_twitter_handle_set = set(maker_dict.keys())"
   ]
  },
  {
   "cell_type": "markdown",
   "id": "03e01f6b",
   "metadata": {},
   "source": [
    "# 2. Fetch a list of all your Twitter follows\n",
    "To match your Twitter followings with the makers launching on Product Hunt, we'll call an API endpoint that returns all your followings on Twitter."
   ]
  },
  {
   "cell_type": "markdown",
   "id": "e85ccc25",
   "metadata": {},
   "source": [
    "## Get numerical username id for your Twitter user"
   ]
  },
  {
   "cell_type": "code",
   "execution_count": null,
   "id": "da7e49b3",
   "metadata": {},
   "outputs": [],
   "source": [
    "username = \"YOUR_TWITTER_USERNAME\"\n",
    "twitter_bearer_token = \"YOUR_BEARER_TOKEN\"\n",
    "\n",
    "search_url = f\"https://api.twitter.com/2/users/by/username/{username}\"\n",
    "search_headers = {\n",
    "    'Authorization': 'Bearer {}'.format(twitter_bearer_token)    \n",
    "}\n",
    "search_resp = requests.get(\n",
    "    search_url,\n",
    "    headers=search_headers, \n",
    "    params={\n",
    "        \"user.fields\":\"id\" # Specifically ask for the id\n",
    "    }\n",
    ")\n",
    "numerical_user_id = search_resp.json()['data']['id']"
   ]
  },
  {
   "cell_type": "markdown",
   "id": "c876f943",
   "metadata": {},
   "source": [
    "## Fetch your followings"
   ]
  },
  {
   "cell_type": "code",
   "execution_count": null,
   "id": "b83ba2df",
   "metadata": {},
   "outputs": [],
   "source": [
    "search_url = f\"https://api.twitter.com/2/users/{numerical_user_id}/following\"\n",
    "search_headers = {\n",
    "    'Authorization': 'Bearer {}'.format(twitter_bearer_token)    \n",
    "}\n",
    "search_resp = requests.get(\n",
    "    search_url,\n",
    "    headers=search_headers, \n",
    "    params={\n",
    "        \"user.fields\":\"username\" # We only need the Twitter handle from the user fields\n",
    "    }\n",
    ")"
   ]
  },
  {
   "cell_type": "markdown",
   "id": "63724673",
   "metadata": {},
   "source": [
    "## Create a set with Twitter handles for all users you're following"
   ]
  },
  {
   "cell_type": "code",
   "execution_count": null,
   "id": "7084cddf",
   "metadata": {},
   "outputs": [],
   "source": [
    "twitter_following_set = set([user['username'] for user in search_resp.json()['data']])"
   ]
  },
  {
   "cell_type": "markdown",
   "id": "a5c5bfb9",
   "metadata": {},
   "source": [
    "# 3. Check if any maker is launching\n",
    "Compare the sets. You'll get a new dict with Twitter handles if the sets match."
   ]
  },
  {
   "cell_type": "code",
   "execution_count": null,
   "id": "f1db4369",
   "metadata": {},
   "outputs": [],
   "source": [
    "matches = set(maker_twitter_handle_set) & set(twitter_following_set)\n",
    "# eg {'twitter_handle_1','twitter_handle_2'}"
   ]
  },
  {
   "cell_type": "markdown",
   "id": "1956cc8d",
   "metadata": {},
   "source": [
    "# 4. Send an email if any maker is launching (optional)\n",
    "If there is a match, let's compose an email."
   ]
  },
  {
   "cell_type": "code",
   "execution_count": null,
   "id": "757a4d0a",
   "metadata": {},
   "outputs": [],
   "source": [
    "# Choose the AWS profile name for the boto3 setup\n",
    "# Optional for sending email with SES\n",
    "boto3.setup_default_session(profile_name='YOUR_AWS_ROLE_NAME')"
   ]
  },
  {
   "cell_type": "code",
   "execution_count": null,
   "id": "ac6015e2",
   "metadata": {},
   "outputs": [],
   "source": [
    "email_text = \"\"\n",
    "for maker_id in matches:\n",
    "    launch_text = f\"The maker {maker_dict[maker_id][0]['maker_name']} @{maker_dict[maker_id][0]['twitter']} that you are following on Twitter just launched {len(maker_dict[maker_id]) + ' producs' if len(maker_dict[maker_id])>1 else 'a product'} on Product Hunt 🚀 \"\n",
    "    \n",
    "    prod_texts = \"\"\n",
    "    for product in maker_dict[maker_id]:\n",
    "        prod_texts += f\"Product mame: {product['prod_name']}\"\n",
    "        prod_texts += f\"Product tagline: {product['prod_tagline']}\"\n",
    "    \n",
    "    email_text += launch_text + prod_texts"
   ]
  },
  {
   "cell_type": "markdown",
   "id": "5ad8de61",
   "metadata": {},
   "source": [
    "## Send email with AWS SES"
   ]
  },
  {
   "cell_type": "code",
   "execution_count": null,
   "id": "fd06379b",
   "metadata": {},
   "outputs": [],
   "source": [
    "ses_client = boto3.client('ses')\n",
    "\n",
    "sender_email = \"FROM_EMAIL_ADDRESS\"\n",
    "receiver_email = \"TO_EMAIL_ADDRESS\"\n",
    "subject = \"EMAIL_SUBJECT\"\n",
    "\n",
    "email_confirmation = ses_client.send_email(\n",
    "    Destination={\n",
    "        'BccAddresses': [],\n",
    "        'CcAddresses': [],\n",
    "        'ToAddresses': [receiver_email],\n",
    "    },\n",
    "    Message={\n",
    "        'Body': {\n",
    "            'Html': {\n",
    "                'Charset': 'UTF-8',\n",
    "                'Data': email_text,\n",
    "            },\n",
    "            'Text': {\n",
    "                'Charset': 'UTF-8',\n",
    "                'Data': email_text,\n",
    "            },\n",
    "        },\n",
    "        'Subject': {\n",
    "            'Charset': 'UTF-8',\n",
    "            'Data': subject,\n",
    "        },\n",
    "    },\n",
    "    ReplyToAddresses=[],\n",
    "    Source=sender_email,\n",
    ")"
   ]
  }
 ],
 "metadata": {
  "kernelspec": {
   "display_name": "Python 3",
   "language": "python",
   "name": "python3"
  },
  "language_info": {
   "codemirror_mode": {
    "name": "ipython",
    "version": 3
   },
   "file_extension": ".py",
   "mimetype": "text/x-python",
   "name": "python",
   "nbconvert_exporter": "python",
   "pygments_lexer": "ipython3",
   "version": "3.8.5"
  }
 },
 "nbformat": 4,
 "nbformat_minor": 5
}
